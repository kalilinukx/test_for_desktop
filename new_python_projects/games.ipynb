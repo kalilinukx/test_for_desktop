{
 "metadata": {
  "language_info": {
   "codemirror_mode": {
    "name": "ipython",
    "version": 3
   },
   "file_extension": ".py",
   "mimetype": "text/x-python",
   "name": "python",
   "nbconvert_exporter": "python",
   "pygments_lexer": "ipython3",
   "version": "3.7.4-final"
  },
  "orig_nbformat": 2,
  "kernelspec": {
   "name": "python3",
   "display_name": "Python 3",
   "language": "python"
  }
 },
 "nbformat": 4,
 "nbformat_minor": 2,
 "cells": [
  {
   "cell_type": "code",
   "execution_count": 1,
   "metadata": {},
   "outputs": [],
   "source": [
    "import random\n",
    "my_words =[]#created an empty list\n",
    "f = open(\"word_list.txt\", \"rt\") # Importing the word collection text file\n",
    "for x in f:\n",
    "    word = str(x)\n",
    "    word = word.rstrip(\"\\n\") # Removine'\\n' character from the word\n",
    "    if(len(word)>2): # We take the word which have more than 2 characters\n",
    "        my_words.append(word)"
   ]
  },
  {
   "cell_type": "code",
   "execution_count": 111,
   "metadata": {
    "tags": []
   },
   "outputs": [
    {
     "output_type": "stream",
     "name": "stdout",
     "text": [
      "p a n a m a "
     ]
    }
   ],
   "source": [
    "x = random.choice(my_words)\r\n",
    "word = x.split()\r\n",
    "for letter in x:\r\n",
    "    print(letter,end=' ')"
   ]
  }
 ]
}